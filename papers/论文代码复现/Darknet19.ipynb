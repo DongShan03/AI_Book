{
 "cells": [
  {
   "cell_type": "code",
   "execution_count": 1,
   "metadata": {},
   "outputs": [],
   "source": [
    "import torch\n",
    "import torch.nn as nn\n",
    "import torch.nn.init as init\n",
    "from torchsummary import summary"
   ]
  },
  {
   "cell_type": "code",
   "execution_count": 2,
   "metadata": {},
   "outputs": [],
   "source": [
    "cfg = [32, 'M', 64, 'M', 128, 64, 128, 'M', 256, 128, 256, 'M',\n",
    "       512, 256, 512, 256, 512, 'M', 1024, 512, 1024, 512, 1024]"
   ]
  },
  {
   "cell_type": "code",
   "execution_count": 3,
   "metadata": {},
   "outputs": [],
   "source": [
    "def make_layers(cfg, in_channels=3, batch_norm=True):\n",
    "    layers = []\n",
    "    flag = True\n",
    "    in_channels = in_channels\n",
    "    for v in cfg:\n",
    "        if v == \"M\":\n",
    "            layers.append(nn.MaxPool2d(kernel_size=2, stride=2))\n",
    "        else:\n",
    "            layers.append(nn.Conv2d(in_channels=in_channels, out_channels=v,\n",
    "                                    kernel_size=(1, 3)[flag], stride=1,\n",
    "                                    padding=(0, 1)[flag], bias=False))\n",
    "            if batch_norm:\n",
    "                layers.append(nn.BatchNorm2d(v))\n",
    "            in_channels = v\n",
    "            layers.append(nn.LeakyReLU(negative_slope=0.1, inplace=True))\n",
    "        \n",
    "        flag = not flag\n",
    "    return nn.Sequential(*layers)"
   ]
  },
  {
   "cell_type": "code",
   "execution_count": 4,
   "metadata": {},
   "outputs": [],
   "source": [
    "class Darknet19(nn.Module):\n",
    "    def __init__(self, num_classes=1000, in_channels=3, batch_norm=True,\n",
    "                    pretrain=False):\n",
    "        super(Darknet19, self).__init__()\n",
    "        self.features = make_layers(cfg, in_channels, batch_norm)\n",
    "        self.classifier = nn.Sequential( \n",
    "            nn.Conv2d(1024, num_classes, kernel_size=1, stride=1),\n",
    "            nn.AdaptiveAvgPool2d(output_size=(1)),\n",
    "            nn.Softmax(dim=0),\n",
    "        )\n",
    "        if pretrain:\n",
    "            pass\n",
    "        else:\n",
    "            self._initialize_weights()\n",
    "\n",
    "    def forward(self, x):\n",
    "        x = self.features(x)\n",
    "        x = self.classifier(x)\n",
    "        x = x.view(x.size(0), -1)\n",
    "        return x\n",
    "        \n",
    "    def _initialize_weights(self):\n",
    "        for m in self.modules():\n",
    "            if isinstance(m, nn.Conv2d):\n",
    "                init.kaiming_normal_(m.weight, mode=\"fan_out\", nonlinearity=\"relu\")\n",
    "                if m.bias is not None:\n",
    "                    nn.init.constant_(m.bias, 0)\n",
    "                elif isinstance(m, nn.BatchNorm2d):\n",
    "                    init.constant_(m.weight, 1)\n",
    "                    init.constant_(m.bias, 0)"
   ]
  },
  {
   "cell_type": "code",
   "execution_count": 5,
   "metadata": {},
   "outputs": [],
   "source": [
    "net = Darknet19(num_classes=1000).to(\"cuda\")"
   ]
  },
  {
   "cell_type": "code",
   "execution_count": 6,
   "metadata": {},
   "outputs": [
    {
     "name": "stdout",
     "output_type": "stream",
     "text": [
      "----------------------------------------------------------------\n",
      "        Layer (type)               Output Shape         Param #\n",
      "================================================================\n",
      "            Conv2d-1         [-1, 32, 224, 224]             864\n",
      "       BatchNorm2d-2         [-1, 32, 224, 224]              64\n",
      "         LeakyReLU-3         [-1, 32, 224, 224]               0\n",
      "         MaxPool2d-4         [-1, 32, 112, 112]               0\n",
      "            Conv2d-5         [-1, 64, 112, 112]          18,432\n",
      "       BatchNorm2d-6         [-1, 64, 112, 112]             128\n",
      "         LeakyReLU-7         [-1, 64, 112, 112]               0\n",
      "         MaxPool2d-8           [-1, 64, 56, 56]               0\n",
      "            Conv2d-9          [-1, 128, 56, 56]          73,728\n",
      "      BatchNorm2d-10          [-1, 128, 56, 56]             256\n",
      "        LeakyReLU-11          [-1, 128, 56, 56]               0\n",
      "           Conv2d-12           [-1, 64, 56, 56]           8,192\n",
      "      BatchNorm2d-13           [-1, 64, 56, 56]             128\n",
      "        LeakyReLU-14           [-1, 64, 56, 56]               0\n",
      "           Conv2d-15          [-1, 128, 56, 56]          73,728\n",
      "      BatchNorm2d-16          [-1, 128, 56, 56]             256\n",
      "        LeakyReLU-17          [-1, 128, 56, 56]               0\n",
      "        MaxPool2d-18          [-1, 128, 28, 28]               0\n",
      "           Conv2d-19          [-1, 256, 28, 28]         294,912\n",
      "      BatchNorm2d-20          [-1, 256, 28, 28]             512\n",
      "        LeakyReLU-21          [-1, 256, 28, 28]               0\n",
      "           Conv2d-22          [-1, 128, 28, 28]          32,768\n",
      "      BatchNorm2d-23          [-1, 128, 28, 28]             256\n",
      "        LeakyReLU-24          [-1, 128, 28, 28]               0\n",
      "           Conv2d-25          [-1, 256, 28, 28]         294,912\n",
      "      BatchNorm2d-26          [-1, 256, 28, 28]             512\n",
      "        LeakyReLU-27          [-1, 256, 28, 28]               0\n",
      "        MaxPool2d-28          [-1, 256, 14, 14]               0\n",
      "           Conv2d-29          [-1, 512, 14, 14]       1,179,648\n",
      "      BatchNorm2d-30          [-1, 512, 14, 14]           1,024\n",
      "        LeakyReLU-31          [-1, 512, 14, 14]               0\n",
      "           Conv2d-32          [-1, 256, 14, 14]         131,072\n",
      "      BatchNorm2d-33          [-1, 256, 14, 14]             512\n",
      "        LeakyReLU-34          [-1, 256, 14, 14]               0\n",
      "           Conv2d-35          [-1, 512, 14, 14]       1,179,648\n",
      "      BatchNorm2d-36          [-1, 512, 14, 14]           1,024\n",
      "        LeakyReLU-37          [-1, 512, 14, 14]               0\n",
      "           Conv2d-38          [-1, 256, 14, 14]         131,072\n",
      "      BatchNorm2d-39          [-1, 256, 14, 14]             512\n",
      "        LeakyReLU-40          [-1, 256, 14, 14]               0\n",
      "           Conv2d-41          [-1, 512, 14, 14]       1,179,648\n",
      "      BatchNorm2d-42          [-1, 512, 14, 14]           1,024\n",
      "        LeakyReLU-43          [-1, 512, 14, 14]               0\n",
      "        MaxPool2d-44            [-1, 512, 7, 7]               0\n",
      "           Conv2d-45           [-1, 1024, 7, 7]       4,718,592\n",
      "      BatchNorm2d-46           [-1, 1024, 7, 7]           2,048\n",
      "        LeakyReLU-47           [-1, 1024, 7, 7]               0\n",
      "           Conv2d-48            [-1, 512, 7, 7]         524,288\n",
      "      BatchNorm2d-49            [-1, 512, 7, 7]           1,024\n",
      "        LeakyReLU-50            [-1, 512, 7, 7]               0\n",
      "           Conv2d-51           [-1, 1024, 7, 7]       4,718,592\n",
      "      BatchNorm2d-52           [-1, 1024, 7, 7]           2,048\n",
      "        LeakyReLU-53           [-1, 1024, 7, 7]               0\n",
      "           Conv2d-54            [-1, 512, 7, 7]         524,288\n",
      "      BatchNorm2d-55            [-1, 512, 7, 7]           1,024\n",
      "        LeakyReLU-56            [-1, 512, 7, 7]               0\n",
      "           Conv2d-57           [-1, 1024, 7, 7]       4,718,592\n",
      "      BatchNorm2d-58           [-1, 1024, 7, 7]           2,048\n",
      "        LeakyReLU-59           [-1, 1024, 7, 7]               0\n",
      "           Conv2d-60           [-1, 1000, 7, 7]       1,025,000\n",
      "AdaptiveAvgPool2d-61           [-1, 1000, 1, 1]               0\n",
      "          Softmax-62           [-1, 1000, 1, 1]               0\n",
      "================================================================\n",
      "Total params: 20,842,376\n",
      "Trainable params: 20,842,376\n",
      "Non-trainable params: 0\n",
      "----------------------------------------------------------------\n",
      "Input size (MB): 0.57\n",
      "Forward/backward pass size (MB): 109.68\n",
      "Params size (MB): 79.51\n",
      "Estimated Total Size (MB): 189.76\n",
      "----------------------------------------------------------------\n"
     ]
    }
   ],
   "source": [
    "summary(net, input_size=(3, 224, 224))"
   ]
  }
 ],
 "metadata": {
  "kernelspec": {
   "display_name": "Python 3.8.13 ('base')",
   "language": "python",
   "name": "python3"
  },
  "language_info": {
   "codemirror_mode": {
    "name": "ipython",
    "version": 3
   },
   "file_extension": ".py",
   "mimetype": "text/x-python",
   "name": "python",
   "nbconvert_exporter": "python",
   "pygments_lexer": "ipython3",
   "version": "3.8.13"
  },
  "orig_nbformat": 4,
  "vscode": {
   "interpreter": {
    "hash": "4442a059423b1d8cb2d566f1d7a9e596fd1852f4b9b9e9d6f69b72f942b31330"
   }
  }
 },
 "nbformat": 4,
 "nbformat_minor": 2
}
